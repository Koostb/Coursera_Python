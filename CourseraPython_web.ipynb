{
 "cells": [
  {
   "cell_type": "code",
   "execution_count": null,
   "metadata": {
    "collapsed": false
   },
   "outputs": [],
   "source": [
    "import pandas as pd\n",
    "from pandas import Series,DataFrame\n",
    "import numpy as np\n",
    "import requests\n",
    "import json\n",
    "from pandas.io.json import json_normalize\n",
    "import xlsxwriter\n"
   ]
  },
  {
   "cell_type": "code",
   "execution_count": null,
   "metadata": {
    "collapsed": false
   },
   "outputs": [],
   "source": [
    "#Get the Coursera Catalogue from the API. While loop is in place for the pagination, to get the 'next' 100 rows.\n",
    "  #Try to solve the universities with the url API\n",
    "next = 0\n",
    "total = 1\n",
    "appended_data =[]\n",
    "while next < (total):\n",
    "    try:\n",
    "        url = \"https://api.coursera.org/api/courses.v1?start=\" + str(next) +\"&primaryLanguages,categories\"\n",
    "        course = requests.get(url)\n",
    "        data = json.loads(course.text)\n",
    "        #dframe = pd.DataFrame(data['elements']\n",
    "        dframe = json_normalize(data['elements'])\n",
    "        appended_data.append(dframe)\n",
    "        #print (url) remove comment to see url's generated\n",
    "        next = (int(data['paging'][\"next\"]))\n",
    "        total = (int(data['paging'][\"total\"]))\n",
    "        #print (total) remove comment to see 'totals' per page\n",
    "        #print (next) remove comment to see 'nexts' per page\n",
    "    except KeyError:\n",
    "        break\n",
    "DFCoursera = pd.concat(appended_data)"
   ]
  },
  {
   "cell_type": "code",
   "execution_count": null,
   "metadata": {
    "collapsed": true
   },
   "outputs": [],
   "source": [
    "#Generate the course_url in order to use it for the SharedCount API. Add column to the DFCoursera dataframe\n",
    "DFCoursera['course_url'] = 'https://www.coursera.org/learn/' + DFCoursera['slug']"
   ]
  },
  {
   "cell_type": "code",
   "execution_count": null,
   "metadata": {
    "collapsed": false
   },
   "outputs": [],
   "source": [
    "#Function for the social media 'get'\n",
    "private_api_key = 'key'\n",
    "def get_social_metrics(url):\n",
    "        sharedcount_response = requests.get('https://free.sharedcount.com/?url=' + url + '&apikey=' + private_api_key)\n",
    "        data = sharedcount_response.text\n",
    "        dataj = json.loads(data)\n",
    "        datak = json_normalize(dataj)\n",
    "        return datak\n",
    "                                            "
   ]
  },
  {
   "cell_type": "code",
   "execution_count": null,
   "metadata": {
    "collapsed": false
   },
   "outputs": [],
   "source": [
    "#Get for every URL the SharedCount results and put these in a table.\n",
    "appended_data = []\n",
    "for url in DFCoursera['course_url']:\n",
    "    data = get_social_metrics(url)\n",
    "    appended_data.append(data) ## store dataframes in list\n",
    "appended_data = pd.concat(appended_data, axis=0) ## concat elements of list\n"
   ]
  },
  {
   "cell_type": "code",
   "execution_count": null,
   "metadata": {
    "collapsed": false
   },
   "outputs": [],
   "source": [
    "#Renaming\n",
    "DFSocial = appended_data"
   ]
  },
  {
   "cell_type": "code",
   "execution_count": null,
   "metadata": {
    "collapsed": false
   },
   "outputs": [],
   "source": [
    "#Delete index in order to concat\n",
    "DFCoursera=DFCoursera.reset_index(drop=True)"
   ]
  },
  {
   "cell_type": "code",
   "execution_count": null,
   "metadata": {
    "collapsed": true
   },
   "outputs": [],
   "source": [
    "#Delete index in order to concat\n",
    "DFSocial=DFSocial.reset_index(drop=True)"
   ]
  },
  {
   "cell_type": "code",
   "execution_count": null,
   "metadata": {
    "collapsed": false
   },
   "outputs": [],
   "source": [
    "#Concatenation\n",
    "DFCoSo = pd.concat([DFCoursera, DFSocial], axis = 1)"
   ]
  },
  {
   "cell_type": "code",
   "execution_count": null,
   "metadata": {
    "collapsed": false
   },
   "outputs": [],
   "source": [
    "#Export to Excel\n",
    "writer = pd.ExcelWriter('Coursera_allcourses.xlsx', engine='xlsxwriter')\n",
    "DFCoSo.to_excel(writer, sheet_name='Sheet1')\n",
    "writer.save()\n"
   ]
  },
  {
   "cell_type": "code",
   "execution_count": null,
   "metadata": {
    "collapsed": true
   },
   "outputs": [],
   "source": []
  }
 ],
 "metadata": {
  "kernelspec": {
   "display_name": "Python 3",
   "language": "python",
   "name": "python3"
  },
  "language_info": {
   "codemirror_mode": {
    "name": "ipython",
    "version": 3
   },
   "file_extension": ".py",
   "mimetype": "text/x-python",
   "name": "python",
   "nbconvert_exporter": "python",
   "pygments_lexer": "ipython3",
   "version": "3.5.1"
  }
 },
 "nbformat": 4,
 "nbformat_minor": 0
}
